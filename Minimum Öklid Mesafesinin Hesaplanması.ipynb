{
 "cells": [
  {
   "cell_type": "markdown",
   "id": "13382e0a-54a6-4581-9d2f-0f4411c4b647",
   "metadata": {},
   "source": [
    "# Minimum Öklid Mesafesinin Hesaplanması"
   ]
  },
  {
   "cell_type": "code",
   "execution_count": 1,
   "id": "511c95f7-5cb0-4eb7-bebc-3536198e1ba4",
   "metadata": {},
   "outputs": [
    {
     "name": "stdout",
     "output_type": "stream",
     "text": [
      "[5.0]\n",
      "[5.0, 13.416407864998739]\n",
      "[5.0, 13.416407864998739, 9.219544457292887]\n",
      "Minimum Mesafe: 5.0\n"
     ]
    }
   ],
   "source": [
    "import math\n",
    "\n",
    "# Noktaların Tanımlanması\n",
    "points = [(1, 2), (4, 6), (13, 8)]\n",
    "\n",
    "# Öklid Mesafesi İçin Fonksiyon\n",
    "def euclideanDistance(point1, point2):\n",
    "    x1, y1 = point1\n",
    "    x2, y2 = point2\n",
    "    return math.sqrt((x2 - x1) ** 2 + (y2 - y1) ** 2)\n",
    "\n",
    "# Mesafelerin Hesaplanması\n",
    "distances = []\n",
    "for i in range(len(points)):\n",
    "    for j in range(i + 1, len(points)):\n",
    "        dist = euclideanDistance(points[i], points[j])\n",
    "        distances.append(dist)\n",
    "        print (distances)\n",
    "\n",
    "# Minimum Mesafenin Bulunması\n",
    "min_distance = min(distances)\n",
    "print(f\"Minimum Mesafe: {min_distance}\")"
   ]
  }
 ],
 "metadata": {
  "kernelspec": {
   "display_name": "Python 3 (ipykernel)",
   "language": "python",
   "name": "python3"
  },
  "language_info": {
   "codemirror_mode": {
    "name": "ipython",
    "version": 3
   },
   "file_extension": ".py",
   "mimetype": "text/x-python",
   "name": "python",
   "nbconvert_exporter": "python",
   "pygments_lexer": "ipython3",
   "version": "3.12.4"
  }
 },
 "nbformat": 4,
 "nbformat_minor": 5
}
